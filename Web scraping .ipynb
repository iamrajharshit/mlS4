{
 "cells": [
  {
   "cell_type": "code",
   "execution_count": 1,
   "id": "dd2d7d34",
   "metadata": {},
   "outputs": [],
   "source": [
    "from bs4 import BeautifulSoup"
   ]
  },
  {
   "cell_type": "code",
   "execution_count": 2,
   "id": "e95014fd",
   "metadata": {},
   "outputs": [],
   "source": [
    "html_content = '''<html>\n",
    "<head>\n",
    "<title>Example</title>\n",
    "</head><body>\n",
    "<p class=\"paragraph\">This is a paragraph.</p>\n",
    "<p class=\"paragraph\">This is a paragraph2.</p>\n",
    "<ul><li>Item1</li>\n",
    "<li>Item2</li>\n",
    "<li>Item3</li></ul>\n",
    "</body>\n",
    "</html>\n",
    "'''\n",
    "soup=BeautifulSoup(html_content,'html.parser')\n"
   ]
  },
  {
   "cell_type": "code",
   "execution_count": 3,
   "id": "c48b9351",
   "metadata": {},
   "outputs": [
    {
     "data": {
      "text/plain": [
       "<title>Example</title>"
      ]
     },
     "execution_count": 3,
     "metadata": {},
     "output_type": "execute_result"
    }
   ],
   "source": [
    "title=soup.title\n",
    "title"
   ]
  },
  {
   "cell_type": "code",
   "execution_count": 4,
   "id": "4241a2fb",
   "metadata": {},
   "outputs": [
    {
     "data": {
      "text/plain": [
       "'Example'"
      ]
     },
     "execution_count": 4,
     "metadata": {},
     "output_type": "execute_result"
    }
   ],
   "source": [
    "title.text"
   ]
  },
  {
   "cell_type": "code",
   "execution_count": 5,
   "id": "35570ff8",
   "metadata": {},
   "outputs": [
    {
     "data": {
      "text/plain": [
       "<p class=\"paragraph\">This is a paragraph.</p>"
      ]
     },
     "execution_count": 5,
     "metadata": {},
     "output_type": "execute_result"
    }
   ],
   "source": [
    "para=soup.p\n",
    "para"
   ]
  },
  {
   "cell_type": "code",
   "execution_count": 6,
   "id": "46688197",
   "metadata": {},
   "outputs": [
    {
     "data": {
      "text/plain": [
       "'This is a paragraph.'"
      ]
     },
     "execution_count": 6,
     "metadata": {},
     "output_type": "execute_result"
    }
   ],
   "source": [
    "para.text"
   ]
  },
  {
   "cell_type": "markdown",
   "id": "a48718eb",
   "metadata": {},
   "source": [
    "# Navigating parse tree"
   ]
  },
  {
   "cell_type": "code",
   "execution_count": 9,
   "id": "211d9e0d",
   "metadata": {},
   "outputs": [
    {
     "data": {
      "text/plain": [
       "<p class=\"paragraph\">This is a paragraph.</p>"
      ]
     },
     "execution_count": 9,
     "metadata": {},
     "output_type": "execute_result"
    }
   ],
   "source": [
    "#tag navigator\n",
    "#to get the only first p tag\n",
    "para=soup.find('p')\n",
    "para"
   ]
  },
  {
   "cell_type": "code",
   "execution_count": 8,
   "id": "f4ceadd6",
   "metadata": {},
   "outputs": [
    {
     "data": {
      "text/plain": [
       "[<p class=\"paragraph\">This is a paragraph.</p>,\n",
       " <p class=\"paragraph\">This is a paragraph2.</p>]"
      ]
     },
     "execution_count": 8,
     "metadata": {},
     "output_type": "execute_result"
    }
   ],
   "source": [
    "#\n",
    "para=soup.find_all('p').text\n",
    "para"
   ]
  },
  {
   "cell_type": "code",
   "execution_count": 24,
   "id": "6f138875",
   "metadata": {},
   "outputs": [],
   "source": [
    "from bs4 import BeautifulSoup\n",
    "\n",
    "html_content = '''<html>\n",
    "<head>\n",
    "<title>Example</title>\n",
    "</head><body>\n",
    "<div>\n",
    "<h1>Welcome to BeautifulSoup</h1>\n",
    "<p>This is a paragraph.</p>\n",
    "<ul><li>Item1</li>\n",
    "<li>Item2</li>\n",
    "<li>Item3</li>\n",
    "</ul>\n",
    "<p>This is a paragraph2.</p>\n",
    "</div>\n",
    "</body>\n",
    "</html>\n",
    "'''\n",
    "soup=BeautifulSoup(html_content,'html.parser')\n"
   ]
  },
  {
   "cell_type": "code",
   "execution_count": 12,
   "id": "d6a34f8c",
   "metadata": {},
   "outputs": [
    {
     "name": "stdout",
     "output_type": "stream",
     "text": [
      "Parent element of <h1>\n",
      "<div>\n",
      "<h1>Welcome to BeautifulSoup</h1>\n",
      "<p>This is a paragraph.</p>\n",
      "<ul><li>Item1</li>\n",
      "<li>Item2</li>\n",
      "<li>Item3</li>\n",
      "</ul>\n",
      "</div>\n"
     ]
    }
   ],
   "source": [
    "h1= soup.h1\n",
    "parent_div = h1.parent\n",
    "print('Parent element of <h1>')\n",
    "print(parent_div)\n"
   ]
  },
  {
   "cell_type": "code",
   "execution_count": 16,
   "id": "b52dca02",
   "metadata": {},
   "outputs": [
    {
     "name": "stdout",
     "output_type": "stream",
     "text": [
      "Previous sibling element of <p>:\n",
      "<h1>Welcome to BeautifulSoup</h1>\n"
     ]
    }
   ],
   "source": [
    "paragraph = soup.p\n",
    "previous_sibling=paragraph.find_previous_sibling()\n",
    "print(\"Previous sibling element of <p>:\")\n",
    "print(previous_sibling)"
   ]
  },
  {
   "cell_type": "code",
   "execution_count": 19,
   "id": "df6630d9",
   "metadata": {},
   "outputs": [
    {
     "name": "stdout",
     "output_type": "stream",
     "text": [
      "<p>This is a paragraph2.</p>\n"
     ]
    }
   ],
   "source": [
    "ul= soup.ul\n",
    "next_sibling = ul.find_next_sibling()\n",
    "print(next_sibling)"
   ]
  },
  {
   "cell_type": "code",
   "execution_count": 25,
   "id": "4e79d963",
   "metadata": {},
   "outputs": [
    {
     "name": "stdout",
     "output_type": "stream",
     "text": [
      "Child element of <div>:\n",
      "\n",
      "\n",
      "<h1>Welcome to BeautifulSoup</h1>\n",
      "\n",
      "\n",
      "<p>This is a paragraph.</p>\n",
      "\n",
      "\n",
      "<ul><li>Item1</li>\n",
      "<li>Item2</li>\n",
      "<li>Item3</li>\n",
      "</ul>\n",
      "\n",
      "\n",
      "<p>This is a paragraph2.</p>\n",
      "\n",
      "\n"
     ]
    }
   ],
   "source": [
    "#Child navigator\n",
    "#accessing child\n",
    "\n",
    "div=soup.div\n",
    "children=div.children\n",
    "print(\"Child element of <div>:\")\n",
    "for child in children:\n",
    "    print(child)"
   ]
  },
  {
   "cell_type": "code",
   "execution_count": null,
   "id": "1d3edca4",
   "metadata": {},
   "outputs": [],
   "source": []
  },
  {
   "cell_type": "code",
   "execution_count": null,
   "id": "752ed4c4",
   "metadata": {},
   "outputs": [],
   "source": []
  }
 ],
 "metadata": {
  "kernelspec": {
   "display_name": "Python 3 (ipykernel)",
   "language": "python",
   "name": "python3"
  },
  "language_info": {
   "codemirror_mode": {
    "name": "ipython",
    "version": 3
   },
   "file_extension": ".py",
   "mimetype": "text/x-python",
   "name": "python",
   "nbconvert_exporter": "python",
   "pygments_lexer": "ipython3",
   "version": "3.9.16"
  }
 },
 "nbformat": 4,
 "nbformat_minor": 5
}
