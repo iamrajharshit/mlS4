{
 "cells": [
  {
   "cell_type": "code",
   "execution_count": 1,
   "id": "9934be07",
   "metadata": {},
   "outputs": [],
   "source": [
    "from sklearn.model_selection import cross_val_score\n",
    "from sklearn.datasets import load_iris\n",
    "from sklearn.tree import DecisionTreeClassifier"
   ]
  },
  {
   "cell_type": "code",
   "execution_count": 2,
   "id": "45c4d72c",
   "metadata": {},
   "outputs": [],
   "source": [
    "data=load_iris()\n",
    "x=data.data\n",
    "y=data.target"
   ]
  },
  {
   "cell_type": "code",
   "execution_count": 3,
   "id": "88bf5944",
   "metadata": {},
   "outputs": [],
   "source": [
    "clf=DecisionTreeClassifier()"
   ]
  },
  {
   "cell_type": "code",
   "execution_count": 4,
   "id": "26ac3dca",
   "metadata": {},
   "outputs": [
    {
     "name": "stdout",
     "output_type": "stream",
     "text": [
      "Mean acc 0.9600000000000002\n"
     ]
    }
   ],
   "source": [
    "scores=cross_val_score(clf,x,y)\n",
    "mean_acc=scores.mean()\n",
    "print(\"Mean acc\",mean_acc)"
   ]
  },
  {
   "cell_type": "code",
   "execution_count": null,
   "id": "8c963657",
   "metadata": {},
   "outputs": [],
   "source": []
  }
 ],
 "metadata": {
  "kernelspec": {
   "display_name": "Python 3 (ipykernel)",
   "language": "python",
   "name": "python3"
  },
  "language_info": {
   "codemirror_mode": {
    "name": "ipython",
    "version": 3
   },
   "file_extension": ".py",
   "mimetype": "text/x-python",
   "name": "python",
   "nbconvert_exporter": "python",
   "pygments_lexer": "ipython3",
   "version": "3.9.16"
  }
 },
 "nbformat": 4,
 "nbformat_minor": 5
}
