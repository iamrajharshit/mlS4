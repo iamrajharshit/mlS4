{
 "cells": [
  {
   "cell_type": "code",
   "execution_count": 1,
   "id": "b78e84d4",
   "metadata": {},
   "outputs": [],
   "source": [
    "from sklearn.datasets import load_iris\n",
    "from sklearn.model_selection import train_test_split\n",
    "from sklearn.preprocessing import StandardScaler\n",
    "from sklearn.decomposition import PCA\n",
    "import joblib\n",
    "from sklearn.pipeline import Pipeline\n",
    "from sklearn.neighbors import KNeighborsClassifier\n",
    "from sklearn.tree import DecisionTreeClassifier"
   ]
  },
  {
   "cell_type": "code",
   "execution_count": 2,
   "id": "6815d581",
   "metadata": {},
   "outputs": [],
   "source": [
    "df=load_iris()\n",
    "\n",
    "x_train,x_test,y_train,y_test=train_test_split(df.data,df.target,test_size=0.2,random_state=42)"
   ]
  },
  {
   "cell_type": "code",
   "execution_count": 3,
   "id": "c653be40",
   "metadata": {},
   "outputs": [],
   "source": [
    "#1\n",
    "pipeline_knn= Pipeline([('scalar1',StandardScaler()),\n",
    "                       ('pcal',PCA(n_components=2)),\n",
    "                       ('knn_classifier',KNeighborsClassifier())])\n"
   ]
  },
  {
   "cell_type": "code",
   "execution_count": 4,
   "id": "5f744da4",
   "metadata": {},
   "outputs": [],
   "source": [
    "pipeline_dt=Pipeline([('scalar2',StandardScaler()),\n",
    "                     ('pcal',PCA(n_components=2)),\n",
    "                     ('knn_classifier',KNeighborsClassifier())])"
   ]
  },
  {
   "cell_type": "code",
   "execution_count": 5,
   "id": "b5284287",
   "metadata": {},
   "outputs": [],
   "source": [
    "pipelines=[pipeline_knn,pipeline_dt]"
   ]
  },
  {
   "cell_type": "code",
   "execution_count": 6,
   "id": "b273a778",
   "metadata": {},
   "outputs": [],
   "source": [
    "#initialize\n",
    "best_accuracy=0.0\n",
    "best_classifier=0\n",
    "best_pipeline=\"\""
   ]
  },
  {
   "cell_type": "code",
   "execution_count": 7,
   "id": "f68b27ad",
   "metadata": {},
   "outputs": [],
   "source": [
    "#Dictionary of pipeline and classifier\n",
    "pipe_dict={0:'KNN',1:\"Decision Tree\"}"
   ]
  },
  {
   "cell_type": "code",
   "execution_count": 8,
   "id": "11406a45",
   "metadata": {},
   "outputs": [],
   "source": [
    "#Fit the pipeline\n",
    "for pipe in pipelines:\n",
    "    pipe.fit(x_train,y_train)"
   ]
  },
  {
   "cell_type": "code",
   "execution_count": 10,
   "id": "ff702ac5",
   "metadata": {},
   "outputs": [
    {
     "name": "stdout",
     "output_type": "stream",
     "text": [
      "KNN Test Accuracy:0.9333333333333333\n",
      "Decision Tree Test Accuracy:0.9333333333333333\n"
     ]
    }
   ],
   "source": [
    "for i, model in enumerate(pipelines):\n",
    "    print(f\"{pipe_dict[i]} Test Accuracy:{model.score(x_test,y_test)}\")"
   ]
  },
  {
   "cell_type": "code",
   "execution_count": null,
   "id": "c2825c9b",
   "metadata": {},
   "outputs": [],
   "source": []
  }
 ],
 "metadata": {
  "kernelspec": {
   "display_name": "Python 3 (ipykernel)",
   "language": "python",
   "name": "python3"
  },
  "language_info": {
   "codemirror_mode": {
    "name": "ipython",
    "version": 3
   },
   "file_extension": ".py",
   "mimetype": "text/x-python",
   "name": "python",
   "nbconvert_exporter": "python",
   "pygments_lexer": "ipython3",
   "version": "3.9.16"
  }
 },
 "nbformat": 4,
 "nbformat_minor": 5
}
